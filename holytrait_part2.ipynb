{
 "cells": [
  {
   "cell_type": "markdown",
   "id": "macro-toner",
   "metadata": {},
   "source": [
    "# Holy Trait Pattern "
   ]
  },
  {
   "cell_type": "markdown",
   "id": "checked-specific",
   "metadata": {},
   "source": [
    "From https://ahsmart.com/pub/holy-traits-design-patterns-and-best-practice-book/"
   ]
  },
  {
   "cell_type": "markdown",
   "id": "executed-artist",
   "metadata": {},
   "source": [
    "英語なので自分用に翻訳しながら読む。"
   ]
  },
  {
   "cell_type": "markdown",
   "id": "literary-leave",
   "metadata": {},
   "source": [
    "## Introduction\n",
    "\n",
    "- Holy Traitsパターンは「Tim Holy Traits Trick (THTT)」とも呼ばれる。"
   ]
  },
  {
   "cell_type": "markdown",
   "id": "gorgeous-indiana",
   "metadata": {},
   "source": [
    "### トレイトとは\n",
    "\n",
    "- **トレイト**とは、オブジェクトの振る舞いに対応するもの。\n",
    "- たとえば、\n",
    "  - 鳥や蝶は飛べるので、どちらも`CanFly`トレイトをもつ\n",
    "  - イルカや亀は泳げるので、`CanSwim`トレイトをもつ\n",
    "  - アヒルは飛べるし泳げるので、その両方のトレイトをもつ\n",
    "- 基本的にはトレイトは「そうかそうでないか」の二値的なもの\n",
    "  - ただし厳密にそう決まっているわけではない。\n",
    "  \n"
   ]
  },
  {
   "cell_type": "markdown",
   "id": "favorite-significance",
   "metadata": {},
   "source": [
    "### トレイトの意義\n",
    "\n",
    "- トレイトはデータ型の使われ方についての正式な契約(formal contract）として使える。\n",
    "- たとえば、\n",
    "  - あるオブジェクトが`CanFly`トレイトを有していれば、そのオブジェクトに`fly`メソッドが定義されていると見込める。\n",
    "  - `CanSwim`トレイトを持っていれば、`swim` 機能を呼びだせると期待できる。\n",
    "\n",
    "\n",
    "Juliaではトレイトに対して組込みでサポートしているわけではないが、多重ディスパッチシステムの助けを借りれば十分にトレイトの概念を使うことができる。\n",
    "\n",
    "以下では、Juliaでのトレイトモデルが、**holy traits**として知られるスペシャルなテクニックによっていかに実現できるのかを見ていく。"
   ]
  },
  {
   "cell_type": "markdown",
   "id": "pressed-mouth",
   "metadata": {},
   "source": [
    "##  ユースケース：個人資産管理\n",
    "\n",
    "- 再利用可能なソフトウェアをデザインする際、大抵の場合、抽象をデータ型として作り、それらと「振る舞い」を関連付ける。\n",
    "- 「振る舞い」のモデルの１つが、型階層の利用\n",
    "  - リスコフの置換原理に従い、「ある関数が呼ばれたとき、その型を派生型に置き換えられるようにする」。\n",
    "  \n",
    "個人資産管理のための型階層を見てみる：\n",
    "\n",
    "<img src=\"https://ahsmart.com/assets/pages/design_patterns_book/abstract_type_hier4.png\" alt=\" Personal Asset Type Hierarchy\"/>\n",
    "\n",
    "- まず、資産(asset)の価値を決める`value`関数を定義する\n",
    "- もしあらゆる資産が何かしらの金銭的な価値を持っていれば、`Asset` 階層にあるすべての型にこの関数が適用できる。\n",
    "- → ほぼすべての資産は`HasValue`トレイトを示すと言える。\n",
    "\n",
    "### 流動性\n",
    "\n",
    "- 時折、階層の中の特定の型にのみ適用できる振る舞いというものが出てくる。\n",
    "- たとえば、\n",
    "  - `trade`機能は流動資産(liquid investment)でのみ有効\n",
    "  - その場合、`Investment`と`Cash`には交換機能を定義し、`House`や`Apartments`には定義しないようにすることになる。"
   ]
  },
  {
   "cell_type": "markdown",
   "id": "surgical-invention",
   "metadata": {},
   "source": [
    "### プログラム上の取り扱い\n",
    "\n",
    "- プログラム的には、どの資産が流動かをどう判断すればいいか？\n",
    "- １つ目の方法：流動資産の型のリストに対してチェックする\n",
    "  - たとえば、\n",
    "  - 資産の配列があり、手っ取り早く現金に替えれるものがどれか探したいとすると、"
   ]
  },
  {
   "cell_type": "code",
   "execution_count": 6,
   "id": "representative-miracle",
   "metadata": {},
   "outputs": [
    {
     "data": {
      "text/plain": [
       "show_tradable_assets (generic function with 1 method)"
      ]
     },
     "execution_count": 6,
     "metadata": {},
     "output_type": "execute_result"
    }
   ],
   "source": [
    "abstract type Asset end\n",
    "abstract type Property <: Asset end\n",
    "abstract type Investment <: Asset end\n",
    "abstract type Cash <: Asset end\n",
    "\n",
    "function show_tradable_assets(assets::Vector{Asset})\n",
    "    for asset in assets\n",
    "        if asset isa Investment || asset isa Cash\n",
    "            println(\"Yes, I can trade \", asset)\n",
    "        else\n",
    "            println(\"Sorry, \", asset, \" is not tradable\")\n",
    "        end\n",
    "    end\n",
    "end"
   ]
  },
  {
   "cell_type": "markdown",
   "id": "confirmed-editing",
   "metadata": {},
   "source": [
    "- if文がちょっと醜い（こんな簡単な例の時点で既に）。条件が増えたらもっと悪化する。\n",
    "\n",
    "- ２つ目の方法：Union型を使う"
   ]
  },
  {
   "cell_type": "code",
   "execution_count": 7,
   "id": "higher-major",
   "metadata": {},
   "outputs": [
    {
     "data": {
      "text/plain": [
       "show_tradable_assets (generic function with 1 method)"
      ]
     },
     "execution_count": 7,
     "metadata": {},
     "output_type": "execute_result"
    }
   ],
   "source": [
    "const LiquidInvestments = Union{Investment, Cash}\n",
    "\n",
    "function show_tradable_assets(assets::Vector{Asset})\n",
    "    for asset in assets\n",
    "        if asset isa LiquidInvestments\n",
    "            println(\"Yes, I can trade \", asset)\n",
    "        else\n",
    "            println(\"Sorry, \", asset, \" is not tradable\")\n",
    "        end\n",
    "    end\n",
    "end"
   ]
  },
  {
   "cell_type": "markdown",
   "id": "permanent-overview",
   "metadata": {},
   "source": [
    "### 問題点\n",
    "\n",
    "このアプローチの課題は、\n",
    "\n",
    "1. Union型は新しい流動資産の型が出てくる度に更新しなければならない。この種のメンテナンスは、プログラマーがその度にこのUnion型を更新することを覚えておかないといけないため、デザインの観点からよくない。\n",
    "2. このUnion型は拡張に対応できない。もし他の開発者がこの「交換ライブラリ」を使っていて、新しい資産型を追加したいとしても、大本のソースコードは弄れないのでこのUnion型の定義を変えることもできない。\n",
    "3. 流動的かどうかを判別する必要がある度に、このif-then-elseロジックがコードの多くの箇所で繰り返されるかもしれない。\n",
    "\n",
    "ってなわけで、**holy traits**パターンを使って解決しましょう。"
   ]
  },
  {
   "cell_type": "markdown",
   "id": "boring-young",
   "metadata": {},
   "source": [
    "## Holy Traitsパターンの実装 \n",
    "\n",
    "まずは一連の型定義から："
   ]
  },
  {
   "cell_type": "code",
   "execution_count": 8,
   "id": "passing-universe",
   "metadata": {},
   "outputs": [],
   "source": [
    "abstract type Asset end\n",
    "\n",
    "abstract type Property <: Asset end\n",
    "abstract type Investment <: Asset end\n",
    "abstract type Cash <: Asset end\n",
    "\n",
    "abstract type House <: Property end\n",
    "abstract type Apartment <: Property end\n",
    "\n",
    "abstract type FixedIncome <: Investment end\n",
    "abstract type Equity <: Investment end"
   ]
  },
  {
   "cell_type": "markdown",
   "id": "governmental-share",
   "metadata": {},
   "source": [
    "- `Asset`の下に`Property`, `Investment`, `Cash`がある\n",
    "- `Property`の下に`House`と`Apartment`がある\n",
    "- `Investment`の下に`FixedIncome`と`Equity`がある\n",
    "\n",
    "具象型もいくつか作ってみましょ："
   ]
  },
  {
   "cell_type": "code",
   "execution_count": 9,
   "id": "egyptian-woman",
   "metadata": {},
   "outputs": [],
   "source": [
    "struct Residence <: House\n",
    "   location\n",
    "end\n",
    "\n",
    "struct Stock <: Equity\n",
    "    symbol\n",
    "    name\n",
    "end\n",
    "\n",
    "struct TreasuryBill <: FixedIncome\n",
    "    cusip\n",
    "end\n",
    "\n",
    "struct Money <: Cash\n",
    "    currency\n",
    "    amount\n",
    "end"
   ]
  },
  {
   "cell_type": "markdown",
   "id": "ruled-rachel",
   "metadata": {},
   "source": [
    "念のための解説：\n",
    "\n",
    "- `Residence` は人が居住し、土地のある家\n",
    "- `Stock` は株式投資で、トレーディングシンボルと会社名で同定できる\n",
    "- `TreasuryBIll` は短期国債で、CUSIPと呼ばれる標準識別子をもつ\n",
    "- `Money`はただの現金\n",
    "\n",
    "ちなみに、今回のトレイトの概念を説明するのにさして重要でないため、各構造体のフィールドには型をつけていない。"
   ]
  },
  {
   "cell_type": "markdown",
   "id": "center-exposure",
   "metadata": {},
   "source": [
    "## トレイト型の定義\n",
    "\n",
    "投資物件(investment)について話をすると、「公開市場で簡単に現金化できるもの」と「現金化するのにかなり手間がかかるもの」を区別できるようにしたい。前者を「流動性がある; liquid」、後者を「流動性がない; illiquid」と呼ぶことにする。たとえば、株(stock)は流動的だが、住居はそうではない。\n",
    "\n",
    "まず、トレイトそのものを定義することから始めよう："
   ]
  },
  {
   "cell_type": "code",
   "execution_count": 10,
   "id": "solar-gibson",
   "metadata": {},
   "outputs": [],
   "source": [
    "abstract type LiquidtyStyle end\n",
    "struct IsLiquid <: LiquidtyStyle end\n",
    "struct IsIlliquid <: LiquidtyStyle end"
   ]
  },
  {
   "cell_type": "markdown",
   "id": "opponent-video",
   "metadata": {},
   "source": [
    "**Juliaにおいて、トレイトとは普通のデータ型以外の何者でもない！** `LiquidtyStyle` の全容はただの抽象型にすぎない。派生型である`IsLiquid`と`IsIlliquid`は、フィールドをもたない具象型としてかく。"
   ]
  },
  {
   "cell_type": "markdown",
   "id": "parliamentary-array",
   "metadata": {},
   "source": [
    "## トレイトの組み込み\n",
    "\n",
    "次に、これらのトレイトをデータ型に割り当てていく。Juliaではトレイトをまとめて割り当てていくのに、`<:` 演算子が使える。"
   ]
  },
  {
   "cell_type": "code",
   "execution_count": 11,
   "id": "psychological-force",
   "metadata": {},
   "outputs": [
    {
     "data": {
      "text/plain": [
       "LiquidityStyle (generic function with 3 methods)"
      ]
     },
     "execution_count": 11,
     "metadata": {},
     "output_type": "execute_result"
    }
   ],
   "source": [
    "# Default behavior is illiquid\n",
    "LiquidityStyle(::Type) = IsIlliquid()\n",
    "\n",
    "# Cash is always liquid\n",
    "LiquidityStyle(::Type{<:Cash}) = IsLiquid()\n",
    "\n",
    "# Any subtype of Investment is liquid\n",
    "LiquidityStyle(::Type{<:Investment}) = IsLiquid()"
   ]
  },
  {
   "cell_type": "markdown",
   "id": "speaking-radiation",
   "metadata": {},
   "source": [
    "トレイトのネーミングに標準的な慣習はないが、パッケージ製作者はよくトレイト型の語尾に\"Style\"や\"Trait\"とつけているようだ。\n",
    "\n",
    "上の３行のコードの意味を見ていく：\n",
    "\n",
    "- デフォルトでは全ての型は非流動的になるよう選んだ。別にデフォルトで流動的になるようにしてもよく、実際のユースケースによって決めればよい。\n",
    "- `Cash`の派生型はすべて流動的になるようにした。この書き方で、具象型の`Money`型も包含している。`::Type{<:Cash}`は`Cash`の派生型すべてを指す。\n",
    "- `Investment`の派生型はすべて流動的になるようにした。つまり、`FixedIncome`や`Equity`の派生型すべてが流動的であり、具象型の例でいえば、`Stock` も流動的になる。"
   ]
  },
  {
   "cell_type": "markdown",
   "id": "healthy-novel",
   "metadata": {},
   "source": [
    "## トレイトの挙動(behavior)の実装"
   ]
  },
  {
   "cell_type": "markdown",
   "id": "strange-lightweight",
   "metadata": {},
   "source": [
    "どの型が流動的かを区別できたので、これらのトレイトをもつオブジェクトを引数にとるメソッドを定義しよう。まずは実に簡単なものから："
   ]
  },
  {
   "cell_type": "code",
   "execution_count": 12,
   "id": "union-protocol",
   "metadata": {},
   "outputs": [
    {
     "data": {
      "text/plain": [
       "tradable (generic function with 3 methods)"
      ]
     },
     "execution_count": 12,
     "metadata": {},
     "output_type": "execute_result"
    }
   ],
   "source": [
    "# The thing is tradable if it is liquid\n",
    "tradable(x::T) where {T} = tradable(LiquidityStyle(T), x)\n",
    "tradable(::IsLiquid, x) = true\n",
    "tradable(::IsIlliquid, x) = false"
   ]
  },
  {
   "cell_type": "markdown",
   "id": "facial-seminar",
   "metadata": {},
   "source": [
    "Juliaでは、型は第一級オブジェクトの一員である。\n",
    "\n",
    "`tradable(x::T) where {T}` と書くことで引数の型が`T`であることを記す。既に`LiquidtyStyle`関数を定義しているので、渡した引数が`IsLiquid`トレイトと`IsIlliquid`トレイトのどちらを示すのかを導出できる。\n",
    "\n",
    "というわけで、最初の`tradable`メソッドは、`LiquidtyStyle(T)`の返り値と自身の引数を、別の`tradable`の2引数メソッドに渡すように定義されている。簡単な例ではあるが、ディスパッチの恩恵が見られる。"
   ]
  },
  {
   "cell_type": "markdown",
   "id": "hundred-graduation",
   "metadata": {},
   "source": [
    "#### Note\n",
    "\n",
    "デフォルトのトレイト関数の引数を`::Type{<:Asset}`としないのはなぜかと思うかもしれないが、そうすると`Asset`型の階層下に定義された型でしか利用できなくなってしまうので使い勝手が制限されてしまう。どっちが好ましいのかは実際の使われ方による。\n"
   ]
  },
  {
   "cell_type": "markdown",
   "id": "infinite-reality",
   "metadata": {},
   "source": [
    "さて、同じトレイトを活かしたもっと興味深い関数を見てみよう。流動的な資産は市場で簡単に取引されるのだから、その市場価格も手っ取り早く探せるようにすべきだ。株式については、株式取引所から値付けサービスを呼び出すのがいいかもしれない。現金だと、市場価格は単なる貨幣額にあたる。コードに落としてみよう："
   ]
  },
  {
   "cell_type": "code",
   "execution_count": 13,
   "id": "wired-whole",
   "metadata": {},
   "outputs": [
    {
     "data": {
      "text/plain": [
       "marketprice (generic function with 3 methods)"
      ]
     },
     "execution_count": 13,
     "metadata": {},
     "output_type": "execute_result"
    }
   ],
   "source": [
    "# The thing has a market price if it is liquid\n",
    "\n",
    "marketprice(x::T) where {T} = marketprice(LiquidityStyle(T), x)\n",
    "\n",
    "marketprice(::IsLiquid, x) =\n",
    "    error(\"Please implement pricing function for \", typeof(x))\n",
    "\n",
    "marketprice(::IsIlliquid, x) =\n",
    "    error(\"Price for illiquid asset $x is not available.\")\n"
   ]
  },
  {
   "cell_type": "markdown",
   "id": "handed-jackson",
   "metadata": {},
   "source": [
    "コードの構造はさっきの「取引可能」関数と同じである。1引数メソッドでは引数のオブジェクトのトレイトを決定し、次の2引数メソッドでは流動設備と非流動設備で異なる挙動を実装している。ここでは、`marketprice`関数は両方の場合で`error`関数を呼び出して例外をあげることにしている。もちろんこれは実際に実現したいことではなく、`Stock`と`Money`型に対して特定の値付け関数を定義したい。というわけで、やってみよう："
   ]
  },
  {
   "cell_type": "code",
   "execution_count": 14,
   "id": "attractive-track",
   "metadata": {},
   "outputs": [
    {
     "data": {
      "text/plain": [
       "marketprice (generic function with 5 methods)"
      ]
     },
     "execution_count": 14,
     "metadata": {},
     "output_type": "execute_result"
    }
   ],
   "source": [
    "# Sample pricing functions for Money and Stock\n",
    "marketprice(x::Money) = x.amount\n",
    "marketprice(x::Stock) = rand(200:250)"
   ]
  },
  {
   "cell_type": "markdown",
   "id": "decent-average",
   "metadata": {},
   "source": [
    "ここでは、`Money`については単にその貨幣額を返すようにした。これはかなり単純化しており、実際にはそこから地域通貨の額（たとえばUSドルとか）を計算するかもしれない。`Stock`については、とりあえず乱数を返すようにしてある。実際には、この関数を株式価格サービスに接続することになるだろう。\n",
    "\n",
    "理解を深めるために、以下のようなテスト関数を書いた："
   ]
  },
  {
   "cell_type": "code",
   "execution_count": 15,
   "id": "dirty-fruit",
   "metadata": {},
   "outputs": [
    {
     "data": {
      "text/plain": [
       "trait_test_bond (generic function with 1 method)"
      ]
     },
     "execution_count": 15,
     "metadata": {},
     "output_type": "execute_result"
    }
   ],
   "source": [
    "function trait_test_cash()\n",
    "    cash = Money(\"USD\", 100.00)\n",
    "    @show tradable(cash)\n",
    "    @show marketprice(cash)\n",
    "end\n",
    "\n",
    "function trait_test_stock()\n",
    "    aapl = Stock(\"AAPL\", \"Apple, Inc.\")\n",
    "    @show tradable(aapl)\n",
    "    @show marketprice(aapl)\n",
    "end\n",
    "\n",
    "function trait_test_residence()\n",
    "    try\n",
    "        home = Residence(\"Los Angeles\")\n",
    "        @show tradable(home) # returns false\n",
    "        @show marketprice(home) # exception is raised\n",
    "    catch ex\n",
    "        println(ex)\n",
    "    end\n",
    "    return true\n",
    "end\n",
    "\n",
    "function trait_test_bond()\n",
    "    try\n",
    "        bill = TreasuryBill(\"123456789\")\n",
    "        @show tradable(bill)\n",
    "        @show marketprice(bill) # exception is raised\n",
    "    catch ex\n",
    "        println(ex)\n",
    "    end\n",
    "    return true\n",
    "end\n"
   ]
  },
  {
   "cell_type": "code",
   "execution_count": 16,
   "id": "charitable-richards",
   "metadata": {},
   "outputs": [
    {
     "name": "stdout",
     "output_type": "stream",
     "text": [
      "tradable(cash) = true\n",
      "marketprice(cash) = 100.0\n"
     ]
    },
    {
     "data": {
      "text/plain": [
       "100.0"
      ]
     },
     "execution_count": 16,
     "metadata": {},
     "output_type": "execute_result"
    }
   ],
   "source": [
    "trait_test_cash()"
   ]
  },
  {
   "cell_type": "code",
   "execution_count": 17,
   "id": "sustained-segment",
   "metadata": {},
   "outputs": [
    {
     "name": "stdout",
     "output_type": "stream",
     "text": [
      "tradable(aapl) = true\n",
      "marketprice(aapl) = 211\n"
     ]
    },
    {
     "data": {
      "text/plain": [
       "211"
      ]
     },
     "execution_count": 17,
     "metadata": {},
     "output_type": "execute_result"
    }
   ],
   "source": [
    "trait_test_stock()"
   ]
  },
  {
   "cell_type": "code",
   "execution_count": 18,
   "id": "historical-pointer",
   "metadata": {},
   "outputs": [
    {
     "name": "stdout",
     "output_type": "stream",
     "text": [
      "tradable(home) = false\n",
      "ErrorException(\"Price for illiquid asset Residence(\\\"Los Angeles\\\") is not available.\")\n"
     ]
    },
    {
     "data": {
      "text/plain": [
       "true"
      ]
     },
     "execution_count": 18,
     "metadata": {},
     "output_type": "execute_result"
    }
   ],
   "source": [
    "trait_test_residence()"
   ]
  },
  {
   "cell_type": "code",
   "execution_count": 19,
   "id": "accurate-journal",
   "metadata": {},
   "outputs": [
    {
     "name": "stdout",
     "output_type": "stream",
     "text": [
      "tradable(bill) = true\n",
      "ErrorException(\"Please implement pricing function forTreasuryBill\")\n"
     ]
    },
    {
     "data": {
      "text/plain": [
       "true"
      ]
     },
     "execution_count": 19,
     "metadata": {},
     "output_type": "execute_result"
    }
   ],
   "source": [
    "trait_test_bond()"
   ]
  },
  {
   "cell_type": "markdown",
   "id": "rubber-subject",
   "metadata": {},
   "source": [
    "*Perfect!* `tradable`関数は現金と株式の両方ともを流動的だと正しく認識しているし、住居の非流動性も認識している。現金と株式については、`marketprice`関数は期待通りに値を返してくれた。住居は流動的でないので、エラーが挙がった。最後に、短期証券（TreasuryBill)は流動的ではあるが、`marketprice`関数がまだ対応していないのでエラーが挙がっている。"
   ]
  },
  {
   "cell_type": "markdown",
   "id": "linear-electric",
   "metadata": {},
   "source": [
    "## トレイトを別の型階層で使う\n",
    "\n",
    "Holy traitパターンの最も良いところは、別の型階層に属するようなオブジェクトに対しても使えるところである。「文芸」を例にして、次のような型階層を定義してみよう："
   ]
  },
  {
   "cell_type": "code",
   "execution_count": 20,
   "id": "negative-longitude",
   "metadata": {},
   "outputs": [],
   "source": [
    "abstract type Literature end\n",
    "\n",
    "struct Book <: Literature\n",
    "    name\n",
    "end"
   ]
  },
  {
   "cell_type": "markdown",
   "id": "controlling-relevance",
   "metadata": {},
   "source": [
    "ここで、`Book`に`LiquidityStyle`トレイトを付与できる："
   ]
  },
  {
   "cell_type": "code",
   "execution_count": 21,
   "id": "rubber-supervision",
   "metadata": {},
   "outputs": [
    {
     "data": {
      "text/plain": [
       "marketprice (generic function with 6 methods)"
      ]
     },
     "execution_count": 21,
     "metadata": {},
     "output_type": "execute_result"
    }
   ],
   "source": [
    "# assign trait\n",
    "LiquidityStyle(::Type{Book}) = IsLiquid()\n",
    "\n",
    "# sample pricing function\n",
    "marketprice(b::Book) = 10.0"
   ]
  },
  {
   "cell_type": "markdown",
   "id": "tired-spotlight",
   "metadata": {},
   "source": [
    "こうして、他の取引可能な資産と全く同じように、本を扱えるようになった。"
   ]
  },
  {
   "cell_type": "markdown",
   "id": "western-dancing",
   "metadata": {},
   "source": [
    "## よくある使い方を見てみる\n",
    "\n",
    "Holy traitパターンはオープンソースパッケージでよく使われている。いくつか例を見てみよう。"
   ]
  },
  {
   "cell_type": "markdown",
   "id": "authorized-depression",
   "metadata": {},
   "source": [
    "### 1. Base IteratorSize\n",
    "\n",
    "JuliaのBaseライブラリはかなり全面的にトレイトを使っている。その一例が`Base.IteratorSize`で、その定義は`generator.jl`に書かれてある："
   ]
  },
  {
   "cell_type": "code",
   "execution_count": 22,
   "id": "challenging-friday",
   "metadata": {},
   "outputs": [],
   "source": [
    "abstract type IteratorSize end\n",
    "struct SizeUnknown <: IteratorSize end\n",
    "struct HasLength <: IteratorSize end\n",
    "struct HasShape{N} <: IteratorSize end\n",
    "struct IsInfinite <: IteratorSize end"
   ]
  },
  {
   "cell_type": "markdown",
   "id": "incorporated-incentive",
   "metadata": {},
   "source": [
    "このトレイトはこれまでに学んできたものとは少し違う。二値的でないからだ。`IteratorSize`は`SizeUnknown`, `HasLength`, `HasShape{N}`, `IsInfinite`の４つの場合がありうる。`IteratorSize`関数は次のように定義されている："
   ]
  },
  {
   "cell_type": "code",
   "execution_count": 24,
   "id": "white-zealand",
   "metadata": {},
   "outputs": [
    {
     "ename": "LoadError",
     "evalue": "UndefVarError: Generator not defined",
     "output_type": "error",
     "traceback": [
      "UndefVarError: Generator not defined",
      "",
      "Stacktrace:",
      " [1] top-level scope at In[24]:7",
      " [2] include_string(::Function, ::Module, ::String, ::String) at ./loading.jl:1091"
     ]
    }
   ],
   "source": [
    "\"\"\"\n",
    "    IteratorSize(itertype::Type) -> IteratorSize\n",
    "\"\"\"\n",
    "IteratorSize(x) = IteratorSize(typeof(x))\n",
    "IteratorSize(::Type) = HasLength() # HasLength is the default\n",
    "IteratorSize(::Type{<:AbstractArray{<:Any,N}}) where {N} = HasShape{N}()\n",
    "IteratorSize(::Type{Generator{I,F}}) where {I,F} = IteratorSize(I)\n",
    "IteratorSize(::Type{Any}) = SizeUnknown()\n"
   ]
  },
  {
   "cell_type": "markdown",
   "id": "vocal-juice",
   "metadata": {},
   "source": [
    "かなりおもしろそうに見えるので、`IsInfinite`に着目してみよう。`Base.Iterators` には無限配列を生成する関数がいくつか定義されている。たとえば、`Iterators.repeated`関数は同じ値を永遠に生成するのに使えるし、`Iterators.take`関数はシーケンスから値をピックアップするのに使える。どう動くか見てみよう："
   ]
  },
  {
   "cell_type": "code",
   "execution_count": 25,
   "id": "intended-redhead",
   "metadata": {},
   "outputs": [
    {
     "data": {
      "text/plain": [
       "5-element Array{Int64,1}:\n",
       " 1\n",
       " 1\n",
       " 1\n",
       " 1\n",
       " 1"
      ]
     },
     "execution_count": 25,
     "metadata": {},
     "output_type": "execute_result"
    }
   ],
   "source": [
    "collect(Iterators.take(Iterators.repeated(1), 5))"
   ]
  },
  {
   "cell_type": "markdown",
   "id": "accessory-barcelona",
   "metadata": {},
   "source": [
    "ソースコードを見れば分かるように、`Repeated`はイテレータの派生型であり、`IteratorSize`として`IsInfinite`が割り当てられている：\n",
    "\n",
    "```\n",
    "IteratorSize(::Type{<:Repeated}) = IsInfinite()\n",
    "```"
   ]
  },
  {
   "cell_type": "markdown",
   "id": "three-midnight",
   "metadata": {},
   "source": [
    "こんな感じで手早く確かめられる："
   ]
  },
  {
   "cell_type": "code",
   "execution_count": 27,
   "id": "together-maximum",
   "metadata": {},
   "outputs": [
    {
     "data": {
      "text/plain": [
       "Base.IsInfinite()"
      ]
     },
     "execution_count": 27,
     "metadata": {},
     "output_type": "execute_result"
    }
   ],
   "source": [
    "Base.IteratorSize(Iterators.repeated(1))"
   ]
  },
  {
   "cell_type": "markdown",
   "id": "excessive-county",
   "metadata": {},
   "source": [
    "思ったとおり、Infiniteでした！しかし、このトレイトはどのように利用されているのだろうか？そのためにBaseライブラリの`BitArray`を見てみよう。このオブジェクトは省スペース設計のブーリアン配列である。このコンストラクタ関数は任意の反復可能オブジェクトをとることができる："
   ]
  },
  {
   "cell_type": "code",
   "execution_count": 28,
   "id": "valid-cycle",
   "metadata": {},
   "outputs": [
    {
     "data": {
      "text/plain": [
       "5-element BitArray{1}:\n",
       " 1\n",
       " 0\n",
       " 1\n",
       " 0\n",
       " 1"
      ]
     },
     "execution_count": 28,
     "metadata": {},
     "output_type": "execute_result"
    }
   ],
   "source": [
    "BitArray([isodd(x) for x in 1:5])"
   ]
  },
  {
   "cell_type": "markdown",
   "id": "diagnostic-currency",
   "metadata": {},
   "source": [
    "おそらく、このコンストラクタが実際に無限なものに対しては動作できないことを理解するのはそう難しくないだろう。それゆえ、`BitArray`コンストラクタの実装はそのことを考慮に入れておかなければならない。我々は`IteratorSize`トレイトに基づいてディスパッチできるので、`BitArray`コンストラクタは幸いそのようなイテレータがやってきたとしても例外を挙げられる。\n",
    "\n",
    "```\n",
    "BitArray(itr) = gen_bitarray(IteratorSize(itr), itr)\n",
    "\n",
    "gen_bitarray(::IsInfinite, itr) =\n",
    "    throw(ArgumentError(\"infinite-size iterable used in BitArray constructor\"))\n",
    "```"
   ]
  },
  {
   "cell_type": "markdown",
   "id": "supported-classroom",
   "metadata": {},
   "source": [
    "動作を見てみるために、`Repeated`イテレータで`BitArray`コンストラクタを呼び出してみよう："
   ]
  },
  {
   "cell_type": "code",
   "execution_count": 29,
   "id": "prescription-madness",
   "metadata": {},
   "outputs": [
    {
     "ename": "LoadError",
     "evalue": "ArgumentError: infinite-size iterable used in BitArray constructor",
     "output_type": "error",
     "traceback": [
      "ArgumentError: infinite-size iterable used in BitArray constructor",
      "",
      "Stacktrace:",
      " [1] gen_bitarray(::Base.IsInfinite, ::Base.Iterators.Repeated{Int64}) at ./bitarray.jl:599",
      " [2] BitArray(::Base.Iterators.Repeated{Int64}) at ./bitarray.jl:572",
      " [3] top-level scope at In[29]:1",
      " [4] include_string(::Function, ::Module, ::String, ::String) at ./loading.jl:1091"
     ]
    }
   ],
   "source": [
    "BitArray(Iterators.repeated(1))"
   ]
  },
  {
   "cell_type": "markdown",
   "id": "animal-trunk",
   "metadata": {},
   "source": [
    "### 2. AbstractPlotting 変換トレイト"
   ]
  },
  {
   "cell_type": "markdown",
   "id": "european-owner",
   "metadata": {},
   "source": [
    "`AbstractPlotting.jl`はMakieプロットシステムの一部をなす抽象プロットライブラリである。ここではデータ変換に関連するトレイトをみてみよう："
   ]
  },
  {
   "cell_type": "code",
   "execution_count": 30,
   "id": "turned-zambia",
   "metadata": {},
   "outputs": [
    {
     "ename": "LoadError",
     "evalue": "UndefVarError: XYBased not defined",
     "output_type": "error",
     "traceback": [
      "UndefVarError: XYBased not defined",
      "",
      "Stacktrace:",
      " [1] top-level scope at In[30]:9",
      " [2] include_string(::Function, ::Module, ::String, ::String) at ./loading.jl:1091"
     ]
    }
   ],
   "source": [
    "abstract type ConversionTrait end\n",
    "\n",
    "struct NoConversion <: ConversionTrait end\n",
    "struct PointBased <: ConversionTrait end\n",
    "struct SurfaceLike <: ConversionTrait end\n",
    "\n",
    "# By default, there is no conversion trait for any object\n",
    "conversion_trait(::Type) = NoConversion()\n",
    "conversion_trait(::Type{<: XYBased}) = PointBased()\n",
    "conversion_trait(::Type{<: Union{Surface, Heatmap, Image}}) = SurfaceLike()"
   ]
  },
  {
   "cell_type": "markdown",
   "id": "behind-edward",
   "metadata": {},
   "source": [
    "ここでは`convert_arguments`関数に使える`ConversionTrait`を定義している。ソースコードにあるように、変換ロジックは３つの異なるシナリオへと適用される：\n",
    "\n",
    "1. 変換されない。`NoConversion`というデフォルトのトレイト型\n",
    "2. `PointBased` な変換\n",
    "3. `SurfaceLike` な変換\n",
    "\n",
    "デフォルトでは、`convert_arguments`関数は変換が必要ないときは何も触らず引数をただ返す："
   ]
  },
  {
   "cell_type": "code",
   "execution_count": 31,
   "id": "technical-equation",
   "metadata": {},
   "outputs": [
    {
     "data": {
      "text/plain": [
       "convert_arguments (generic function with 1 method)"
      ]
     },
     "execution_count": 31,
     "metadata": {},
     "output_type": "execute_result"
    }
   ],
   "source": [
    "# Do not convert anything if there is no conversion trait\n",
    "convert_arguments(::NoConversion, args...) = args"
   ]
  },
  {
   "cell_type": "markdown",
   "id": "intermediate-asian",
   "metadata": {},
   "source": [
    "それから、様々な`convert_arguments`関数が定義される。ここでは2Dプロットの関数を見てみよう："
   ]
  },
  {
   "cell_type": "code",
   "execution_count": 32,
   "id": "painted-cruise",
   "metadata": {},
   "outputs": [
    {
     "ename": "LoadError",
     "evalue": "UndefVarError: RealVector not defined",
     "output_type": "error",
     "traceback": [
      "UndefVarError: RealVector not defined",
      "",
      "Stacktrace:",
      " [1] top-level scope at In[32]:1",
      " [2] include_string(::Function, ::Module, ::String, ::String) at ./loading.jl:1091"
     ]
    }
   ],
   "source": [
    "\"\"\"\n",
    "    convert_arguments(P, x, y)::(Vector)\n",
    "\n",
    "Takes vectors `x` and `y` and turns it into a vector of 2D points of\n",
    "the values from `x` and `y`. `P` is the plot Type (it is optional).\n",
    "\"\"\"\n",
    "convert_arguments(::PointBased, x::RealVector, y::RealVector) = (Point2f0.(x, y),)\n"
   ]
  },
  {
   "cell_type": "markdown",
   "id": "finished-edward",
   "metadata": {},
   "source": [
    "## `SimpleTraits.jl`パッケージを使う"
   ]
  },
  {
   "cell_type": "markdown",
   "id": "recognized-belfast",
   "metadata": {},
   "source": [
    "`SimpleTraits.jl`パッケージを使うとトレイトをプログラミングするときに少し簡単になるかもしれない。SimpleTraitsを使って`LiquidityStyle`の例をやり直してみよう。まず、`IsLiquid` のトレイトを次のように定義する："
   ]
  },
  {
   "cell_type": "code",
   "execution_count": 33,
   "id": "colonial-advocacy",
   "metadata": {},
   "outputs": [
    {
     "ename": "LoadError",
     "evalue": "LoadError: UndefVarError: @traitdef not defined\nin expression starting at In[33]:1",
     "output_type": "error",
     "traceback": [
      "LoadError: UndefVarError: @traitdef not defined\nin expression starting at In[33]:1",
      "",
      "Stacktrace:",
      " [1] top-level scope",
      " [2] include_string(::Function, ::Module, ::String, ::String) at ./loading.jl:1091"
     ]
    }
   ],
   "source": [
    "@traitdef IsLiquid{T}"
   ]
  },
  {
   "cell_type": "markdown",
   "id": "neutral-advertising",
   "metadata": {},
   "source": [
    "この構文は`T`が何もしていないようにみえるので少しぎこちなく見えるが、実際必要である。次に、型にこのトレイトを割り当てる："
   ]
  },
  {
   "cell_type": "code",
   "execution_count": 34,
   "id": "exempt-chase",
   "metadata": {},
   "outputs": [
    {
     "ename": "LoadError",
     "evalue": "LoadError: UndefVarError: @traitimpl not defined\nin expression starting at In[34]:1",
     "output_type": "error",
     "traceback": [
      "LoadError: UndefVarError: @traitimpl not defined\nin expression starting at In[34]:1",
      "",
      "Stacktrace:",
      " [1] top-level scope",
      " [2] include_string(::Function, ::Module, ::String, ::String) at ./loading.jl:1091"
     ]
    }
   ],
   "source": [
    "@traitimpl IsLiquid{Cash}\n",
    "@traitimpl IsLiquid{Investment}"
   ]
  },
  {
   "cell_type": "markdown",
   "id": "rising-sharp",
   "metadata": {},
   "source": [
    "それから、4つのコロンの特別な構文を使って、そのトレイトを示すオブジェクトを引数にとる関数を定義する："
   ]
  },
  {
   "cell_type": "code",
   "execution_count": 35,
   "id": "threaded-funeral",
   "metadata": {},
   "outputs": [
    {
     "ename": "LoadError",
     "evalue": "LoadError: UndefVarError: @traitfn not defined\nin expression starting at In[35]:1",
     "output_type": "error",
     "traceback": [
      "LoadError: UndefVarError: @traitfn not defined\nin expression starting at In[35]:1",
      "",
      "Stacktrace:",
      " [1] top-level scope",
      " [2] include_string(::Function, ::Module, ::String, ::String) at ./loading.jl:1091"
     ]
    }
   ],
   "source": [
    "@traitfn marketprice(x::::IsLiquid) =\n",
    "    error(\"Please implement pricing function for \", typeof(x))\n",
    "\n",
    "@traitfn marketprice(x::::(!IsLiquid)) =\n",
    "    error(\"Price for illiquid asset $x is not available.\")"
   ]
  },
  {
   "cell_type": "markdown",
   "id": "chubby-tragedy",
   "metadata": {},
   "source": [
    "流動的な場合は`x::::IsLiquid`でアノテートされた引数をもっており、一方、非流動的な場合は`x::::(!IsLiquid)`でアノテートされている。パースがうまくいくように括弧が必要なことに注意。さて、テストしてみよう："
   ]
  },
  {
   "cell_type": "code",
   "execution_count": 36,
   "id": "permanent-fifteen",
   "metadata": {},
   "outputs": [
    {
     "ename": "LoadError",
     "evalue": "Price for illiquid asset Residence(\"Los Angelses\") is not available.",
     "output_type": "error",
     "traceback": [
      "Price for illiquid asset Residence(\"Los Angelses\") is not available.",
      "",
      "Stacktrace:",
      " [1] error(::String) at ./error.jl:33",
      " [2] marketprice(::IsIlliquid, ::Residence) at ./In[13]:8",
      " [3] marketprice(::Residence) at ./In[13]:3",
      " [4] top-level scope at In[36]:2",
      " [5] include_string(::Function, ::Module, ::String, ::String) at ./loading.jl:1091"
     ]
    }
   ],
   "source": [
    "marketprice(Stock(\"AAPL\", \"Apple\"))\n",
    "marketprice(Residence(\"Los Angelses\"))"
   ]
  },
  {
   "cell_type": "markdown",
   "id": "brown-stranger",
   "metadata": {},
   "source": [
    "期待通り、どちらのデフォルト実装もエラーを投げている。さて、`Stock`のための値付け関数を実装して、もう一度テストしてみる："
   ]
  },
  {
   "cell_type": "markdown",
   "id": "indian-hands",
   "metadata": {},
   "source": [
    "いい感じ！お分かりの通り、SimpleTrait.jlパッケージはトレイト作成のプロセスを簡単にしてくれる。"
   ]
  },
  {
   "cell_type": "markdown",
   "id": "sublime-carnival",
   "metadata": {},
   "source": [
    "まとめると、トレイトを使うことでコードをより拡張可能なものにすることができる。とはいいつつ、心に留めておかないといけないのが、適切なトレイトを設計するにはいくらか手間がかかるということだ。コードを拡張したい人が誰でもそのあらかじめ定義されたトレイトの利用方法を理解できるように、ドキュメンテーションも重要になる。"
   ]
  },
  {
   "cell_type": "code",
   "execution_count": null,
   "id": "computational-superintendent",
   "metadata": {},
   "outputs": [],
   "source": []
  }
 ],
 "metadata": {
  "kernelspec": {
   "display_name": "Julia 1.5.3",
   "language": "julia",
   "name": "julia-1.5"
  },
  "language_info": {
   "file_extension": ".jl",
   "mimetype": "application/julia",
   "name": "julia",
   "version": "1.5.3"
  }
 },
 "nbformat": 4,
 "nbformat_minor": 5
}
